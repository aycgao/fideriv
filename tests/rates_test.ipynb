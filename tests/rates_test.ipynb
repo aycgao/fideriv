{
 "cells": [
  {
   "cell_type": "code",
   "execution_count": 8,
   "metadata": {},
   "outputs": [],
   "source": [
    "import pandas as pd\n",
    "import numpy as np"
   ]
  },
  {
   "cell_type": "code",
   "execution_count": null,
   "metadata": {},
   "outputs": [],
   "source": [
    "# Test 1: Testing Rate Conversion Section\n",
    "\n",
    "## Data: Strips 1 FV Zero Coupon Prices\n",
    "file_path = \"../data/famabliss_strips_2024-12-31.xlsx\"\n",
    "strips_data = pd.read_excel(file_path)"
   ]
  },
  {
   "cell_type": "markdown",
   "metadata": {},
   "source": [
    "### Note\n",
    "\n",
    "We can consider zero coupon bonds with 1 dollar FV as discount factors. \n",
    "\n",
    "The reason is that these STRIPS are taken from the coupons of bonds, and you're paying a certain price for one dollar of return on a given day, so it's exactly how much you would have to discount a payment that you're recieving on a future date."
   ]
  },
  {
   "cell_type": "code",
   "execution_count": null,
   "metadata": {},
   "outputs": [],
   "source": []
  }
 ],
 "metadata": {
  "kernelspec": {
   "display_name": "base",
   "language": "python",
   "name": "python3"
  },
  "language_info": {
   "codemirror_mode": {
    "name": "ipython",
    "version": 3
   },
   "file_extension": ".py",
   "mimetype": "text/x-python",
   "name": "python",
   "nbconvert_exporter": "python",
   "pygments_lexer": "ipython3",
   "version": "3.12.4"
  }
 },
 "nbformat": 4,
 "nbformat_minor": 2
}
